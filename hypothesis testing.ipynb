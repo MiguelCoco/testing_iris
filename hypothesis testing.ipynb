{
 "cells": [
  {
   "cell_type": "code",
   "execution_count": 14,
   "metadata": {},
   "outputs": [],
   "source": [
    "import pandas as pd\n",
    "import statsmodels.stats.weightstats \n",
    "import numpy as np\n",
    "import scipy as sp\n"
   ]
  },
  {
   "cell_type": "code",
   "execution_count": 15,
   "metadata": {},
   "outputs": [
    {
     "name": "stdout",
     "output_type": "stream",
     "text": [
      "-2501.89873685 0.0\n"
     ]
    }
   ],
   "source": [
    "iris = pd.read_csv('iris.csv')\n",
    "#单样本Z检验\n",
    "z,pval = statsmodels.stats.weightstats.ztest(iris['sepal_length'],value=175)\n",
    "print(z,pval)"
   ]
  },
  {
   "cell_type": "code",
   "execution_count": 16,
   "metadata": {},
   "outputs": [
    {
     "name": "stdout",
     "output_type": "stream",
     "text": [
      "5.84333333333\n"
     ]
    }
   ],
   "source": [
    "mean_val = np.mean(iris['sepal_length'])\n",
    "print(mean_val)"
   ]
  },
  {
   "cell_type": "code",
   "execution_count": 17,
   "metadata": {},
   "outputs": [
    {
     "name": "stdout",
     "output_type": "stream",
     "text": [
      "0.640918351411 0.521575732112\n"
     ]
    }
   ],
   "source": [
    "z,pval = statsmodels.stats.weightstats.ztest(iris['sepal_length'],value=5.8)\n",
    "print(z,pval)"
   ]
  },
  {
   "cell_type": "code",
   "execution_count": 23,
   "metadata": {},
   "outputs": [
    {
     "name": "stdout",
     "output_type": "stream",
     "text": [
      "0.640918351411 0.522560274622\n"
     ]
    }
   ],
   "source": [
    "#单样本t检验\n",
    "t,val = sp.stats.ttest_1samp(iris['sepal_length'],popmean=5.8)\n",
    "print(t,val)"
   ]
  },
  {
   "cell_type": "code",
   "execution_count": 30,
   "metadata": {},
   "outputs": [
    {
     "name": "stdout",
     "output_type": "stream",
     "text": [
      "-15.3861958201 6.89254606067e-28\n"
     ]
    }
   ],
   "source": [
    "#对iris进行抽样，形成两个样本\n",
    "iris_1=iris[iris.species == 'Iris-setosa']\n",
    "iris_2=iris[iris.species == 'Iris-virginica']\n",
    "t,pval=sp.stats.ttest_ind(iris_1['sepal_length'],iris_2['sepal_length'])\n",
    "print(t,pval)"
   ]
  },
  {
   "cell_type": "code",
   "execution_count": 31,
   "metadata": {},
   "outputs": [
    {
     "name": "stdout",
     "output_type": "stream",
     "text": [
      "5.006 6.588\n"
     ]
    }
   ],
   "source": [
    "iris_1_mean = np.mean(iris_1['sepal_length'])\n",
    "iris_2_mean = np.mean(iris_2['sepal_length'])\n",
    "print(iris_1_mean,iris_2_mean)"
   ]
  }
 ],
 "metadata": {
  "kernelspec": {
   "display_name": "Python 3",
   "language": "python",
   "name": "python3"
  },
  "language_info": {
   "codemirror_mode": {
    "name": "ipython",
    "version": 3
   },
   "file_extension": ".py",
   "mimetype": "text/x-python",
   "name": "python",
   "nbconvert_exporter": "python",
   "pygments_lexer": "ipython3",
   "version": "3.6.3"
  }
 },
 "nbformat": 4,
 "nbformat_minor": 2
}
